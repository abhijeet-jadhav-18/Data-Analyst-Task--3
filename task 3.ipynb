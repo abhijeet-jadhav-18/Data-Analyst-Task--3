{
 "cells": [
  {
   "cell_type": "code",
   "execution_count": 65,
   "id": "0129232d-ba3e-4a55-aacb-762830d9cd6b",
   "metadata": {},
   "outputs": [],
   "source": [
    "import time\n",
    "import pandas as pd\n",
    "from bs4 import BeautifulSoup\n",
    "from selenium import webdriver\n",
    "from selenium.webdriver.chrome.options import Options\n",
    "from selenium.webdriver.common.by import By"
   ]
  },
  {
   "cell_type": "code",
   "execution_count": 67,
   "id": "8ef2ea53-7977-4887-b35f-dfc9cbf1450b",
   "metadata": {},
   "outputs": [],
   "source": [
    "def init_driver():\n",
    "    options = Options()\n",
    "    options.add_argument(\"--headless\")  # Run browser in headless mode\n",
    "    options.add_argument(\"user-agent=Mozilla/5.0 (Windows NT 10.0; Win64; x64) \"\n",
    "                         \"AppleWebKit/537.36 (KHTML, like Gecko) \"\n",
    "                         \"Chrome/115.0.0.0 Safari/537.36\")\n",
    "    driver = webdriver.Chrome(options=options)\n",
    "    return driver"
   ]
  },
  {
   "cell_type": "code",
   "execution_count": 69,
   "id": "1bd6549b-9451-41cd-ba6b-3ef64b060a17",
   "metadata": {},
   "outputs": [],
   "source": [
    "def scrape_flipkart(driver, query, max_pages=2):\n",
    "    base_url = \"https://www.flipkart.com/search?q=\"\n",
    "    products = []\n",
    "    for page in range(1, max_pages + 1):\n",
    "        url = f\"{base_url}{query}&page={page}\"\n",
    "        driver.get(url)\n",
    "        time.sleep(3)  # Wait for page to load\n",
    "        soup = BeautifulSoup(driver.page_source, 'html.parser')\n",
    "        product_cards = soup.find_all('div', class_='_3pLy-c row')\n",
    "        for card in product_cards:\n",
    "            try:\n",
    "                name = card.find('div', class_='_4rR01T').text.strip()\n",
    "                price = card.find('div', class_='_30jeq3 _1_WHN1').text.strip()\n",
    "                rating_tag = card.find('div', class_='_3LWZlK')\n",
    "                rating = rating_tag.text.strip() if rating_tag else \"No rating\"\n",
    "                products.append({\n",
    "                    'Source': 'Flipkart',\n",
    "                    'Product Name': name,\n",
    "                    'Price': price,\n",
    "                    'Rating': rating\n",
    "                })\n",
    "            except AttributeError:\n",
    "                # Skip if any element is missing\n",
    "                continue\n",
    "    return products"
   ]
  },
  {
   "cell_type": "code",
   "execution_count": 71,
   "id": "44396ec2-325d-428e-b7ee-d272974584c3",
   "metadata": {},
   "outputs": [],
   "source": [
    "def scrape_amazon(driver, query, max_pages=2):\n",
    "    base_url = \"https://www.amazon.in/s?k=\"\n",
    "    products = []\n",
    "    for page in range(1, max_pages + 1):\n",
    "        url = f\"{base_url}{query}&page={page}\"\n",
    "        driver.get(url)\n",
    "        time.sleep(3)  # Wait for page to load\n",
    "        soup = BeautifulSoup(driver.page_source, 'html.parser')\n",
    "        product_cards = soup.find_all('div', {'data-component-type': 's-search-result'})\n",
    "        for card in product_cards:\n",
    "            try:\n",
    "                name = card.h2.text.strip()\n",
    "                price_whole = card.find('span', 'a-price-whole')\n",
    "                price_fraction = card.find('span', 'a-price-fraction')\n",
    "                price = (price_whole.text + price_fraction.text) if price_whole and price_fraction else \"Price not available\"\n",
    "                rating_tag = card.find('span', class_='a-icon-alt')\n",
    "                rating = rating_tag.text.split(' ')[0] if rating_tag else \"No rating\"\n",
    "                products.append({\n",
    "                    'Source': 'Amazon',\n",
    "                    'Product Name': name,\n",
    "                    'Price': price,\n",
    "                    'Rating': rating\n",
    "                })\n",
    "            except AttributeError:\n",
    "                continue\n",
    "    return products\n",
    "\n"
   ]
  },
  {
   "cell_type": "code",
   "execution_count": null,
   "id": "7455b0ee-ee20-4096-9647-e1465bba3184",
   "metadata": {},
   "outputs": [
    {
     "name": "stdin",
     "output_type": "stream",
     "text": [
      "Enter the product to search:  oppo mobile\n"
     ]
    },
    {
     "name": "stdout",
     "output_type": "stream",
     "text": [
      "Scraping Flipkart...\n"
     ]
    }
   ],
   "source": [
    "def main():\n",
    "    query = input(\"Enter the product to search: \").strip().replace(' ', '+')\n",
    "    driver = init_driver()\n",
    "    print(\"Scraping Flipkart...\")\n",
    "    flipkart_data = scrape_flipkart(driver, query)\n",
    "    print(\"Scraping Amazon...\")\n",
    "    amazon_data = scrape_amazon(driver, query)\n",
    "    driver.quit()\n",
    "    # Combine data\n",
    "    all_products = flipkart_data + amazon_data\n",
    "    # Save to Excel\n",
    "    df = pd.DataFrame(all_products)\n",
    "    filename = f\"product_details_{query.replace('+', '_')}.xlsx\"\n",
    "    df.to_excel(filename, index=False)\n",
    "    print(f\"Data saved to {filename}\")\n",
    "\n",
    "if __name__ == \"__main__\":\n",
    "    main()"
   ]
  },
  {
   "cell_type": "code",
   "execution_count": 43,
   "id": "2a7d30d0-55d5-44ae-bd81-15273d45bbd0",
   "metadata": {},
   "outputs": [
    {
     "ename": "NameError",
     "evalue": "name 'all_products' is not defined",
     "output_type": "error",
     "traceback": [
      "\u001b[1;31m---------------------------------------------------------------------------\u001b[0m",
      "\u001b[1;31mNameError\u001b[0m                                 Traceback (most recent call last)",
      "Cell \u001b[1;32mIn[43], line 2\u001b[0m\n\u001b[0;32m      1\u001b[0m \u001b[38;5;66;03m# Save to Excel\u001b[39;00m\n\u001b[1;32m----> 2\u001b[0m df \u001b[38;5;241m=\u001b[39m pd\u001b[38;5;241m.\u001b[39mDataFrame(all_products)\n\u001b[0;32m      3\u001b[0m filename \u001b[38;5;241m=\u001b[39m \u001b[38;5;124mf\u001b[39m\u001b[38;5;124m\"\u001b[39m\u001b[38;5;124mproduct_details_\u001b[39m\u001b[38;5;132;01m{\u001b[39;00mquery\u001b[38;5;241m.\u001b[39mreplace(\u001b[38;5;124m'\u001b[39m\u001b[38;5;124m+\u001b[39m\u001b[38;5;124m'\u001b[39m,\u001b[38;5;250m \u001b[39m\u001b[38;5;124m'\u001b[39m\u001b[38;5;124m_\u001b[39m\u001b[38;5;124m'\u001b[39m)\u001b[38;5;132;01m}\u001b[39;00m\u001b[38;5;124m.xlsx\u001b[39m\u001b[38;5;124m\"\u001b[39m\n\u001b[0;32m      4\u001b[0m df\u001b[38;5;241m.\u001b[39mto_excel(filename, index\u001b[38;5;241m=\u001b[39m\u001b[38;5;28;01mFalse\u001b[39;00m)\n",
      "\u001b[1;31mNameError\u001b[0m: name 'all_products' is not defined"
     ]
    }
   ],
   "source": []
  },
  {
   "cell_type": "code",
   "execution_count": null,
   "id": "b1661669-d979-4193-a5d9-ad43e387246e",
   "metadata": {},
   "outputs": [],
   "source": []
  }
 ],
 "metadata": {
  "kernelspec": {
   "display_name": "Python 3 (ipykernel)",
   "language": "python",
   "name": "python3"
  },
  "language_info": {
   "codemirror_mode": {
    "name": "ipython",
    "version": 3
   },
   "file_extension": ".py",
   "mimetype": "text/x-python",
   "name": "python",
   "nbconvert_exporter": "python",
   "pygments_lexer": "ipython3",
   "version": "3.12.7"
  }
 },
 "nbformat": 4,
 "nbformat_minor": 5
}
